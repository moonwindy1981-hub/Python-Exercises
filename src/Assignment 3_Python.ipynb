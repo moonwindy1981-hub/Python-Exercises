{
 "cells": [
  {
   "cell_type": "markdown",
   "id": "200a0282-5c82-43dc-9ebf-18034d5fefdf",
   "metadata": {},
   "source": [
    "# **ASSIGNMENT 2**\n",
    "## **09/09/2025**\n",
    "### *Nguyen Thi Ngoc Hanh*"
   ]
  },
  {
   "cell_type": "code",
   "execution_count": 1,
   "id": "07950966-0e3c-49b8-b6fa-6732ed8093c5",
   "metadata": {},
   "outputs": [
    {
     "name": "stdout",
     "output_type": "stream",
     "text": [
      "30\n"
     ]
    }
   ],
   "source": [
    "# Exercise 1: Define a lambda expression to get the product of two numbers\n",
    "product = lambda x, y: x * y  # Multiplies x and y\n",
    "\n",
    "# Run a test for the expression with arguments 5 and 6 (Exercise 1)\n",
    "result = product(5, 6)\n",
    "\n",
    "print(result)  # Output: 30"
   ]
  },
  {
   "cell_type": "code",
   "execution_count": 2,
   "id": "9750dbb1-47d5-4899-8466-55bba2cd600d",
   "metadata": {},
   "outputs": [
    {
     "name": "stdout",
     "output_type": "stream",
     "text": [
      "314.1592653589793\n"
     ]
    }
   ],
   "source": [
    "# Exercise 2: Write a function to get the area of a circle from the radius.\n",
    "# Hint: remember to import the right module for being able to calculate the area of the circle.\n",
    "\n",
    "import math  # Import the math module to use mathematical constants like pi\n",
    "\n",
    "def circle_area(radius):\n",
    "    \"\"\"Calculate the area of a circle given its radius.\"\"\"\n",
    "    return math.pi * radius ** 2  # Area formula: pi * r^2\n",
    "\n",
    "# Run test for function(10) (Exercise 2)\n",
    "result = circle_area(10)\n",
    "\n",
    "print(result)  # Output: 314.1592653589793"
   ]
  },
  {
   "cell_type": "code",
   "execution_count": 3,
   "id": "1ebb4fc0-59f0-4544-8269-054d7cd14e4e",
   "metadata": {},
   "outputs": [
    {
     "name": "stdout",
     "output_type": "stream",
     "text": [
      "0.4\n"
     ]
    }
   ],
   "source": [
    "# Exercise 3: Build a simple calculator which can add, subtract, multiply, divide\n",
    "\n",
    "def simple_calculator(a, b, operation):\n",
    "    \"\"\"\n",
    "    A simple calculator that can add, subtract, multiply, or divide two numbers.\n",
    "    operation: 'a' for add, 's' for subtract, 'm' for multiply, 'd' for divide\n",
    "    \"\"\"\n",
    "    if operation == 'a':\n",
    "        return a + b\n",
    "    elif operation == 's':\n",
    "        return a - b\n",
    "    elif operation == 'm':\n",
    "        return a * b\n",
    "    elif operation == 'd':\n",
    "        return a / b\n",
    "\n",
    "# Run test for function(2, 5, 'd') (Exercise 3)\n",
    "result = simple_calculator(2, 5, 'd')\n",
    "print(result)  # Output: 0.4"
   ]
  },
  {
   "cell_type": "code",
   "execution_count": 4,
   "id": "a2cd5381-7a61-4f30-8c9f-630bbfe90471",
   "metadata": {},
   "outputs": [
    {
     "name": "stdout",
     "output_type": "stream",
     "text": [
      "50\n"
     ]
    }
   ],
   "source": [
    "# Exercise 4: Define a class named Rectangle which can be constructed by a length and width.\n",
    "# The Rectangle class has a method which can compute the area.\n",
    "\n",
    "class Rectangle:\n",
    "    def __init__(self, length, width):\n",
    "        \"\"\"Initialize the rectangle with length and width.\"\"\"\n",
    "        self.length = length\n",
    "        self.width = width\n",
    "\n",
    "    def area(self):\n",
    "        \"\"\"Compute the area of the rectangle.\"\"\"\n",
    "        return self.length * self.width\n",
    "\n",
    "# Run test for r = Rectangle(5, 10) and call area method (Exercise 4)\n",
    "r = Rectangle(5, 10)\n",
    "print(r.area())  # Output: 50"
   ]
  },
  {
   "cell_type": "code",
   "execution_count": 5,
   "id": "d0e71b39-a686-438c-9673-fb1bc464c26f",
   "metadata": {},
   "outputs": [
    {
     "name": "stdout",
     "output_type": "stream",
     "text": [
      "The area is:\n",
      "25\n",
      "This is a: square\n"
     ]
    }
   ],
   "source": [
    "# Exercise 5: Define a class named Shape and its subclass Square.\n",
    "# Shape objects can be constructed by name and length, has an area function which returns 0.\n",
    "# Square subclass has an __init__ function which takes length and name as arguments,\n",
    "# and has an area method and a describe method that prints the name of the Shape.\n",
    "\n",
    "class Shape:\n",
    "    def __init__(self, name, length):\n",
    "        self.name = name\n",
    "        self.length = length\n",
    "\n",
    "    def area(self):\n",
    "        return 0  # Default area for Shape\n",
    "\n",
    "class Square(Shape):\n",
    "    def __init__(self, name, length):\n",
    "        super().__init__(name, length)  # Initialize parent class attributes\n",
    "\n",
    "    def area(self):\n",
    "        return self.length * self.length  # Calculate area of square\n",
    "\n",
    "    def describe(self):\n",
    "        return f\"This is a: {self.name}\"  # Print the name of the shape\n",
    "\n",
    "# Run test (Exercise 5)\n",
    "s = Square('square', 5)\n",
    "print(\"The area is:\")\n",
    "print(s.area())       # Output: 25\n",
    "print(s.describe())   # Output: This is a: square"
   ]
  }
 ],
 "metadata": {
  "kernelspec": {
   "display_name": "Python (myenv)",
   "language": "python",
   "name": "myenv"
  },
  "language_info": {
   "codemirror_mode": {
    "name": "ipython",
    "version": 3
   },
   "file_extension": ".py",
   "mimetype": "text/x-python",
   "name": "python",
   "nbconvert_exporter": "python",
   "pygments_lexer": "ipython3",
   "version": "3.11.13"
  }
 },
 "nbformat": 4,
 "nbformat_minor": 5
}
